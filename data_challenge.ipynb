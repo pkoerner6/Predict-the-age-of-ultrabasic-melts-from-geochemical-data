{
 "cells": [
  {
   "cell_type": "markdown",
   "metadata": {},
   "source": [
    "## Data challenge - Machine Learning for Geobiology\n",
    "Paulina Körner\n",
    "\n",
    "kaggle user name: Paulina Koerner"
   ]
  },
  {
   "cell_type": "markdown",
   "metadata": {},
   "source": [
    "### 1. Abstract\n",
    "(5 points)\n",
    "- Should be understandable to anyone in the course.\n",
    "- You don’t need to say everything you did, just say what the main idea was and what were one or two takeaways."
   ]
  },
  {
   "cell_type": "markdown",
   "metadata": {},
   "source": []
  },
  {
   "cell_type": "markdown",
   "metadata": {},
   "source": [
    "### 2. Introduction\n",
    "(5 points)\n",
    "- A description of the methods you used in the project and why."
   ]
  },
  {
   "cell_type": "markdown",
   "metadata": {},
   "source": []
  },
  {
   "cell_type": "code",
   "execution_count": 1,
   "metadata": {},
   "outputs": [],
   "source": [
    "import pandas as pd\n",
    "import numpy as np\n",
    "\n",
    "import matplotlib.pyplot as plt\n",
    "\n",
    "from sklearn import metrics \n",
    "from sklearn.preprocessing import MinMaxScaler\n",
    "from sklearn.feature_selection import SelectKBest, chi2\n",
    "from sklearn.metrics import f1_score"
   ]
  },
  {
   "cell_type": "markdown",
   "metadata": {},
   "source": [
    "### 3. Data pre-processing\n",
    "(20 points)\n",
    "- Did you standardize or normalize the data?\n",
    "- Did you use all the features available or selected an optimal subset? If so how did you perform the feature selection?"
   ]
  },
  {
   "cell_type": "markdown",
   "metadata": {},
   "source": [
    "#### Data: \n",
    "- 3000 samples\n",
    "- each row is one sample\n",
    "- 34 columns (mainly chemicals in rock sample)\n",
    "- Label: 0 -> 'Miocene', 1 -> 'Paleogene', 2 -> 'Plio-Quaternary'\n",
    "- Evaluating on F1 metric (not accuracy) – so try to optimize the F1 metric\n",
    "- Look at feature importance \n",
    "\n"
   ]
  },
  {
   "cell_type": "code",
   "execution_count": 2,
   "metadata": {},
   "outputs": [
    {
     "name": "stdout",
     "output_type": "stream",
     "text": [
      "(757, 33)\n"
     ]
    }
   ],
   "source": [
    "# Import data sets\n",
    "test = pd.read_csv('test.csv')\n",
    "X_test = test.set_index('Id')\n",
    "y_test = test.Id\n",
    "print(X_test.shape)\n",
    "#X_test.head()"
   ]
  },
  {
   "cell_type": "code",
   "execution_count": 3,
   "metadata": {},
   "outputs": [
    {
     "name": "stdout",
     "output_type": "stream",
     "text": [
      "(2271, 35)\n"
     ]
    }
   ],
   "source": [
    "train = pd.read_csv('train.csv')\n",
    "print(train.shape)\n",
    "#train.head(10)\n",
    "#print(train.columns)"
   ]
  },
  {
   "cell_type": "code",
   "execution_count": 4,
   "metadata": {},
   "outputs": [
    {
     "data": {
      "text/plain": [
       "Label\n",
       "0     822\n",
       "1    1061\n",
       "2     388\n",
       "Name: Id, dtype: int64"
      ]
     },
     "execution_count": 4,
     "metadata": {},
     "output_type": "execute_result"
    }
   ],
   "source": [
    "#Check how many samples are from which time period\n",
    "grouped = train.groupby(['Label']).count()\n",
    "grouped.Id"
   ]
  },
  {
   "cell_type": "code",
   "execution_count": 5,
   "metadata": {},
   "outputs": [
    {
     "name": "stdout",
     "output_type": "stream",
     "text": [
      "0\n"
     ]
    }
   ],
   "source": [
    "# check if dataframe is missing values\n",
    "print(train.isnull().sum().sum())"
   ]
  },
  {
   "cell_type": "code",
   "execution_count": 6,
   "metadata": {},
   "outputs": [
    {
     "name": "stdout",
     "output_type": "stream",
     "text": [
      "2271\n"
     ]
    }
   ],
   "source": [
    "# check if Id's are unique\n",
    "ids = train.Id\n",
    "print(ids.nunique())"
   ]
  },
  {
   "cell_type": "code",
   "execution_count": 7,
   "metadata": {},
   "outputs": [],
   "source": [
    "# check mean and variance of column values\n",
    "columns = train.columns\n",
    "variability = pd.DataFrame(data=columns, index=None, columns=[\"Column\"])\n",
    "means = train[columns].mean()\n",
    "variability = means.to_frame().reset_index()\n",
    "variability.columns = [\"Columns\", \"Mean\"]\n",
    "variances = train[columns].var()\n",
    "var_df = variances.to_frame().reset_index()\n",
    "var_df.columns = [\"Columns\", \"Variance\"]\n",
    "variability[\"Variance\"] = var_df[\"Variance\"]\n",
    "variability = variability.round({'Mean': 1, 'Variance': 1})\n",
    "\n",
    "#variability.head(34)"
   ]
  },
  {
   "cell_type": "markdown",
   "metadata": {},
   "source": [
    "- The dataset contains outliers. \n",
    "- The data is not normally distributed.\n",
    "- Can transform features by scaling each feature to a given range unding sklearn.preprocessing.MinMaxScaler()"
   ]
  },
  {
   "cell_type": "code",
   "execution_count": 8,
   "metadata": {},
   "outputs": [
    {
     "data": {
      "text/plain": [
       "'\\nscaler = MinMaxScaler(feature_range=(0,1))\\n\\nX = scaler.fit_transform(train.drop(\"Label\", axis=1))\\ntrain_scaled= pd.DataFrame(X, columns=train.drop(\"Label\", axis=1).columns, index=train.index)\\ntrain_scaled[\"Label\"] = train[\"Label\"]\\ntrain_scaled.head()\\n#print(train_scaled[\"Label\"].unique())\\n'"
      ]
     },
     "execution_count": 8,
     "metadata": {},
     "output_type": "execute_result"
    }
   ],
   "source": [
    "\"\"\"\n",
    "scaler = MinMaxScaler(feature_range=(0,1))\n",
    "\n",
    "X = scaler.fit_transform(train.drop(\"Label\", axis=1))\n",
    "train_scaled= pd.DataFrame(X, columns=train.drop(\"Label\", axis=1).columns, index=train.index)\n",
    "train_scaled[\"Label\"] = train[\"Label\"]\n",
    "train_scaled.head()\n",
    "#print(train_scaled[\"Label\"].unique())\n",
    "\"\"\""
   ]
  },
  {
   "cell_type": "code",
   "execution_count": 9,
   "metadata": {},
   "outputs": [
    {
     "data": {
      "text/plain": [
       "'\\nn = 388\\nlabel0 = train.loc[train[\\'Label\\'] == 0]\\nlabel1 = train.loc[train[\\'Label\\'] == 1]\\nlabel2 = train.loc[train[\\'Label\\'] == 2]\\nprint(\"Shape of label0: \", label0.shape)\\nprint(\"Shape of label1: \", label1.shape)\\nprint(\"Shape of label2: \", label2.shape)\\nprint(\" \")\\n\\nlabel0_sampled = label0.sample(n=n)\\nlabel1_sampled = label1.sample(n=n)\\nprint(\"Shape of label0_sampled: \",label0_sampled.shape)\\nprint(\"Shape of label1_sampled: \",label1_sampled.shape)\\nprint(\" \")\\n\\ntrain_sampled = pd.concat([label2, label0_sampled, label1_sampled])\\nprint(\"Shape of train_sampled: \", train_sampled.shape)\\n\\n# Shuffle rows\\ntrain = train_sampled.sample(frac=1)\\ntrain.head()\\n'"
      ]
     },
     "execution_count": 9,
     "metadata": {},
     "output_type": "execute_result"
    }
   ],
   "source": [
    "# Down sampln: select randomly equal number of rows for each label\n",
    "\"\"\"\n",
    "n = 388\n",
    "label0 = train.loc[train['Label'] == 0]\n",
    "label1 = train.loc[train['Label'] == 1]\n",
    "label2 = train.loc[train['Label'] == 2]\n",
    "print(\"Shape of label0: \", label0.shape)\n",
    "print(\"Shape of label1: \", label1.shape)\n",
    "print(\"Shape of label2: \", label2.shape)\n",
    "print(\" \")\n",
    "\n",
    "label0_sampled = label0.sample(n=n)\n",
    "label1_sampled = label1.sample(n=n)\n",
    "print(\"Shape of label0_sampled: \",label0_sampled.shape)\n",
    "print(\"Shape of label1_sampled: \",label1_sampled.shape)\n",
    "print(\" \")\n",
    "\n",
    "train_sampled = pd.concat([label2, label0_sampled, label1_sampled])\n",
    "print(\"Shape of train_sampled: \", train_sampled.shape)\n",
    "\n",
    "# Shuffle rows\n",
    "train = train_sampled.sample(frac=1)\n",
    "train.head()\n",
    "\"\"\""
   ]
  },
  {
   "cell_type": "markdown",
   "metadata": {},
   "source": [
    "##### Outlier detection"
   ]
  },
  {
   "cell_type": "code",
   "execution_count": 10,
   "metadata": {},
   "outputs": [],
   "source": [
    "\n",
    "# Outlier detection with isolation Forest\n",
    "from sklearn.ensemble import IsolationForest\n",
    "clf = IsolationForest(random_state=0)\n",
    "pred = clf.fit_predict(train) #identify outliers\n",
    "train_cleaned = train[np.where(pred == 1, True, False)] # remove outliers where 1 represents inliers and -1 represents outliers\n",
    "#train_cleaned.shape"
   ]
  },
  {
   "cell_type": "markdown",
   "metadata": {},
   "source": [
    "##### Convert to train set"
   ]
  },
  {
   "cell_type": "code",
   "execution_count": 11,
   "metadata": {},
   "outputs": [],
   "source": [
    "train_cleaned_id = train_cleaned.set_index('Id')\n",
    "#train_cleaned_id = train.set_index('Id') # set index as Id\n",
    "y = train_cleaned_id[\"Label\"] #create y set with Labels\n",
    "x = train_cleaned_id.drop(['Label'], axis = 1) # create x dataset without Labels"
   ]
  },
  {
   "cell_type": "markdown",
   "metadata": {},
   "source": [
    "##### Feature Selection"
   ]
  },
  {
   "cell_type": "code",
   "execution_count": 12,
   "metadata": {},
   "outputs": [
    {
     "data": {
      "text/plain": [
       "array([[48.7 , 14.49,  8.76, ...,  4.69,  8.38,  3.18],\n",
       "       [75.93, 13.01,  0.95, ...,  0.55,  2.13,  6.75],\n",
       "       [58.92, 16.46,  5.87, ...,  2.31,  3.41,  9.66],\n",
       "       ...,\n",
       "       [63.26, 16.36,  5.92, ...,  2.26,  5.62,  3.84],\n",
       "       [68.79, 13.12,  4.76, ...,  2.33,  1.99,  4.15],\n",
       "       [68.23, 16.28,  3.56, ...,  1.54,  4.15,  4.03]])"
      ]
     },
     "execution_count": 12,
     "metadata": {},
     "output_type": "execute_result"
    }
   ],
   "source": [
    "kbest = SelectKBest(k=33)\n",
    "kbest.fit_transform(x, y)\n",
    "#X_test = kbest.transform(X_test)"
   ]
  },
  {
   "cell_type": "code",
   "execution_count": 13,
   "metadata": {},
   "outputs": [
    {
     "name": "stdout",
     "output_type": "stream",
     "text": [
      "{'Sm/Yb': 320.93386481124253, '(Sm/Yb)N': 320.3973272109341, '(La/Yb)N': 293.9616367013765, 'La/Yb': 293.8846357215445, 'La': 239.2664151201812, 'LaN': 238.7155781442083, 'CeN': 232.67726898207405, 'Ce': 232.61695526214538, 'Nb/Yb': 216.01414465516834, 'Nb': 155.70371857217455, 'Sm': 120.90867896360325, 'SmN': 120.71950891463344, 'Yb': 107.67378362745029, 'YbN': 107.67234876706569, 'Ti': 103.51667969827291, 'TiO2(LOI free)': 102.09686869162626, 'La/Sm': 93.18806169095353, 'SiO2(LOI free)': 61.23445800650728, 'SiO2': 59.59308795931548, 'MgO(LOI free)': 59.5930789074193, 'CaO': 51.639861061617125, 'CaO(LOI free)': 51.15636139059611, 'Rb/Sm': 40.39054566450408, 'Nb/La': 36.875479011276816, 'Fe2O3tot': 36.2093895464009, 'Fe2O3(LOI free)': 36.182567960372545, 'Nb/Rb': 22.677306885450857, 'La/Nb': 21.310459270148254, 'Na2O(LOI free)': 21.050119417519003, 'Rb': 18.834137633201408, 'Al2O3(LOI free)': 15.59498412986893, 'Al2O3': 14.726758652649913, 'Total': 10.222824468988215}\n"
     ]
    },
    {
     "data": {
      "image/png": "[encoded data removed]",
      "text/plain": [
       "<Figure size 432x288 with 1 Axes>"
      ]
     },
     "metadata": {
      "needs_background": "light"
     },
     "output_type": "display_data"
    }
   ],
   "source": [
    "scores = kbest.scores_\n",
    "features = kbest.feature_names_in_\n",
    "feature_scores = {}\n",
    "\n",
    "for i in range(len(scores)):\n",
    "  feature_scores[features[i]] = scores[i]\n",
    "\n",
    "feature_scores = sorted(feature_scores.items(), key=lambda x:x[1], reverse=True)\n",
    "scores_sorted = dict(feature_scores)\n",
    "print(scores_sorted)\n",
    "\n",
    "#dict_scores = feature_scores\n",
    "dict_scores = scores_sorted\n",
    "x_plot = np.arange(len(dict_scores))\n",
    "y_plot = dict_scores.values()\n",
    "plt.bar(x_plot, y_plot)\n",
    "plt.xticks(x_plot + 0.5, dict_scores.keys(), rotation='vertical')\n",
    "plt.xlabel(\"features\")\n",
    "plt.ylabel(\"score\")\n",
    "plt.show()"
   ]
  },
  {
   "cell_type": "markdown",
   "metadata": {},
   "source": [
    "There is no clear elbow visible so I won't to feature selection."
   ]
  },
  {
   "cell_type": "markdown",
   "metadata": {},
   "source": [
    "-------------------------------------------------------------------\n",
    "------------------------------------------------------------------------\n"
   ]
  },
  {
   "cell_type": "markdown",
   "metadata": {},
   "source": [
    "### 4. Modeling\n",
    "(40 points)\n",
    "- What are the model assumptions?\n",
    "- Is there any evidence to support them?"
   ]
  },
  {
   "cell_type": "markdown",
   "metadata": {},
   "source": [
    "#### K nearest neighbor"
   ]
  },
  {
   "cell_type": "code",
   "execution_count": 14,
   "metadata": {},
   "outputs": [
    {
     "data": {
      "text/plain": [
       "'\\n# cross validation to select the optimal number of neighbors the KNN classifier should use\\n# Cross validation fits the model on a subset of the training data and predicts labels on the remaining training samples\\n# By repeating this operation with different k parameters, I can estimate which value fits our problem the best.\\n\\nfrom sklearn.model_selection import GridSearchCV\\nfrom sklearn.neighbors import KNeighborsClassifier\\nimport matplotlib.pyplot as plt\\n\\nk_range = list(range(1, 31, 1))\\nparam_grid = dict(n_neighbors=k_range)\\n\\ngrid = GridSearchCV(KNeighborsClassifier(), param_grid)\\ngrid.fit(X_train, y_train)\\n\\nmean_test_scores = grid.cv_results_[\\'mean_test_score\\']\\nbest_estimator = grid.best_estimator_\\naccuracy = grid.best_score_ *100\\n\\nplt.plot(k_range, mean_test_scores, \"bo\")\\n#plt.axvspan(2.5, 3.5, color=\\'green\\', alpha=0.5)\\nplt.title(\"Mean test score for each parameter\")\\nplt.xlabel(\"parameters k\")\\nplt.ylabel(\"mean test score\")\\nplt.show()\\nprint(\"Mean test scores for parameters k: \", mean_test_scores)\\nprint(best_estimator)\\nprint(\"Accuracy of best parameter: \",accuracy)\\n'"
      ]
     },
     "execution_count": 14,
     "metadata": {},
     "output_type": "execute_result"
    }
   ],
   "source": [
    "\"\"\"\n",
    "# cross validation to select the optimal number of neighbors the KNN classifier should use\n",
    "# Cross validation fits the model on a subset of the training data and predicts labels on the remaining training samples\n",
    "# By repeating this operation with different k parameters, I can estimate which value fits our problem the best.\n",
    "\n",
    "from sklearn.model_selection import GridSearchCV\n",
    "from sklearn.neighbors import KNeighborsClassifier\n",
    "import matplotlib.pyplot as plt\n",
    "\n",
    "k_range = list(range(1, 31, 1))\n",
    "param_grid = dict(n_neighbors=k_range)\n",
    "\n",
    "grid = GridSearchCV(KNeighborsClassifier(), param_grid)\n",
    "grid.fit(X_train, y_train)\n",
    "\n",
    "mean_test_scores = grid.cv_results_['mean_test_score']\n",
    "best_estimator = grid.best_estimator_\n",
    "accuracy = grid.best_score_ *100\n",
    "\n",
    "plt.plot(k_range, mean_test_scores, \"bo\")\n",
    "#plt.axvspan(2.5, 3.5, color='green', alpha=0.5)\n",
    "plt.title(\"Mean test score for each parameter\")\n",
    "plt.xlabel(\"parameters k\")\n",
    "plt.ylabel(\"mean test score\")\n",
    "plt.show()\n",
    "print(\"Mean test scores for parameters k: \", mean_test_scores)\n",
    "print(best_estimator)\n",
    "print(\"Accuracy of best parameter: \",accuracy)\n",
    "\"\"\"\n"
   ]
  },
  {
   "cell_type": "code",
   "execution_count": 15,
   "metadata": {},
   "outputs": [
    {
     "data": {
      "text/plain": [
       "'\\nknn = KNeighborsClassifier(n_neighbors=3)\\nknn.fit(X_train, y_train)\\n\\n# Accuracy\\nfrom sklearn.metrics import accuracy_score\\n\\ny_predicted = knn.predict(X_val)\\naccuracy_prediction = accuracy_score(y_val, y_predicted)\\nprint(\"Test accuracy: \", accuracy_prediction)\\n\\n# F1 score\\nf1 = f1_score(y_true=y_val, y_pred=y_predicted,labels=[0,1,2], average=\\'weighted\\')\\nprint(\"F1 score: \", f1)\\nf1_label = f1_score(y_true=y_val, y_pred=y_predicted,labels=[0,1,2], average=None)\\nprint(\"F1 for each label: \", f1_label)\\n'"
      ]
     },
     "execution_count": 15,
     "metadata": {},
     "output_type": "execute_result"
    }
   ],
   "source": [
    "\"\"\"\n",
    "knn = KNeighborsClassifier(n_neighbors=3)\n",
    "knn.fit(X_train, y_train)\n",
    "\n",
    "# Accuracy\n",
    "from sklearn.metrics import accuracy_score\n",
    "\n",
    "y_predicted = knn.predict(X_val)\n",
    "accuracy_prediction = accuracy_score(y_val, y_predicted)\n",
    "print(\"Test accuracy: \", accuracy_prediction)\n",
    "\n",
    "# F1 score\n",
    "f1 = f1_score(y_true=y_val, y_pred=y_predicted,labels=[0,1,2], average='weighted')\n",
    "print(\"F1 score: \", f1)\n",
    "f1_label = f1_score(y_true=y_val, y_pred=y_predicted,labels=[0,1,2], average=None)\n",
    "print(\"F1 for each label: \", f1_label)\n",
    "\"\"\""
   ]
  },
  {
   "cell_type": "markdown",
   "metadata": {},
   "source": [
    "---------------------------------------------------------"
   ]
  },
  {
   "cell_type": "markdown",
   "metadata": {},
   "source": [
    "#### Decision Tree"
   ]
  },
  {
   "cell_type": "code",
   "execution_count": 16,
   "metadata": {},
   "outputs": [
    {
     "data": {
      "text/plain": [
       "'\\nfrom sklearn.model_selection import GridSearchCV\\nfrom sklearn.tree import DecisionTreeClassifier\\nimport matplotlib.pyplot as plt\\n\\ndepth_range = list(range(2, 9))\\ntree_param = dict(max_depth=depth_range)\\n\\ngrid_dtc = GridSearchCV(DecisionTreeClassifier(random_state=42), tree_param)\\ngrid_dtc.fit(X_train, y_train)\\n\\nmean_test_scores_dtc = grid_dtc.cv_results_[\\'mean_test_score\\']\\nbest_estimator_dtc = grid_dtc.best_estimator_\\naccuracy_dtc = grid_dtc.best_score_ *100\\n\\nplt.plot(depth_range, mean_test_scores_dtc, \"yo\")\\nplt.axvspan(7.9, 8.1, color=\\'green\\', alpha=0.5)\\nplt.title(\"Mean test score for each parameter\")\\nplt.xlabel(\"parameters k\")\\nplt.ylabel(\"mean test score\")\\nplt.show()\\nprint(\"Mean test scores for parameters k: \", mean_test_scores_dtc)\\nprint(best_estimator_dtc)\\nprint(\"Accuracy of best parameters 3: \",accuracy_dtc)\\n'"
      ]
     },
     "execution_count": 16,
     "metadata": {},
     "output_type": "execute_result"
    }
   ],
   "source": [
    "\"\"\"\n",
    "from sklearn.model_selection import GridSearchCV\n",
    "from sklearn.tree import DecisionTreeClassifier\n",
    "import matplotlib.pyplot as plt\n",
    "\n",
    "depth_range = list(range(2, 9))\n",
    "tree_param = dict(max_depth=depth_range)\n",
    "\n",
    "grid_dtc = GridSearchCV(DecisionTreeClassifier(random_state=42), tree_param)\n",
    "grid_dtc.fit(X_train, y_train)\n",
    "\n",
    "mean_test_scores_dtc = grid_dtc.cv_results_['mean_test_score']\n",
    "best_estimator_dtc = grid_dtc.best_estimator_\n",
    "accuracy_dtc = grid_dtc.best_score_ *100\n",
    "\n",
    "plt.plot(depth_range, mean_test_scores_dtc, \"yo\")\n",
    "plt.axvspan(7.9, 8.1, color='green', alpha=0.5)\n",
    "plt.title(\"Mean test score for each parameter\")\n",
    "plt.xlabel(\"parameters k\")\n",
    "plt.ylabel(\"mean test score\")\n",
    "plt.show()\n",
    "print(\"Mean test scores for parameters k: \", mean_test_scores_dtc)\n",
    "print(best_estimator_dtc)\n",
    "print(\"Accuracy of best parameters 3: \",accuracy_dtc)\n",
    "\"\"\""
   ]
  },
  {
   "cell_type": "code",
   "execution_count": 17,
   "metadata": {},
   "outputs": [
    {
     "data": {
      "text/plain": [
       "'\\ndtc = DecisionTreeClassifier(max_depth=8, random_state=42)\\ndtc.fit(X_train, y_train)\\n\\ny_predicted = dtc.predict(X_val)\\naccuracy_prediction = accuracy_score(y_val, y_predicted)\\nprint(\"Test accuracy: \", accuracy_prediction)\\n\\n# F1 score\\nf1 = f1_score(y_true=y_val, y_pred=y_predicted,labels=[0,1,2], average=\\'weighted\\')\\nprint(\"F1 score: \", f1)\\nf1_label = f1_score(y_true=y_val, y_pred=y_predicted,labels=[0,1,2], average=None)\\nprint(\"F1 for each label: \", f1_label)\\n'"
      ]
     },
     "execution_count": 17,
     "metadata": {},
     "output_type": "execute_result"
    }
   ],
   "source": [
    "\"\"\"\n",
    "dtc = DecisionTreeClassifier(max_depth=8, random_state=42)\n",
    "dtc.fit(X_train, y_train)\n",
    "\n",
    "y_predicted = dtc.predict(X_val)\n",
    "accuracy_prediction = accuracy_score(y_val, y_predicted)\n",
    "print(\"Test accuracy: \", accuracy_prediction)\n",
    "\n",
    "# F1 score\n",
    "f1 = f1_score(y_true=y_val, y_pred=y_predicted,labels=[0,1,2], average='weighted')\n",
    "print(\"F1 score: \", f1)\n",
    "f1_label = f1_score(y_true=y_val, y_pred=y_predicted,labels=[0,1,2], average=None)\n",
    "print(\"F1 for each label: \", f1_label)\n",
    "\"\"\""
   ]
  },
  {
   "cell_type": "markdown",
   "metadata": {},
   "source": [
    "-----------------------------------------------------"
   ]
  },
  {
   "cell_type": "markdown",
   "metadata": {},
   "source": [
    "#### Random forest"
   ]
  },
  {
   "cell_type": "code",
   "execution_count": 18,
   "metadata": {},
   "outputs": [
    {
     "name": "stdout",
     "output_type": "stream",
     "text": [
      "Accuracy of the model:  0.7855421686746988\n",
      "F1 score:  0.7833599729986693\n",
      "F1 for each label:  [0.76582278 0.82352941 0.69811321]\n"
     ]
    }
   ],
   "source": [
    "from sklearn.ensemble import RandomForestClassifier\n",
    "import matplotlib.pyplot as plt\n",
    "from sklearn import metrics \n",
    "from sklearn.model_selection import train_test_split\n",
    "\n",
    "X_train, X_val, y_train, y_val = train_test_split(x, y, test_size = 0.20)\n",
    "\n",
    "rfc = RandomForestClassifier(n_estimators = 100) \n",
    "#rfc = RandomForestClassifier(n_estimators = 100, criterion=\"entropy\") \n",
    "rfc.fit(X_train, y_train)\n",
    "\n",
    "feature_imp = pd.Series(rfc.feature_importances_, index = x.columns).sort_values(ascending = False)\n",
    "#print(feature_imp)\n",
    "\n",
    "val_pred = rfc.predict(X_val)\n",
    "y_pred = rfc.predict(X_test)\n",
    "\n",
    "print(\"Accuracy of the model: \", metrics.accuracy_score(y_val, val_pred))\n",
    "# F1 score\n",
    "f1 = f1_score(y_true=y_val, y_pred=val_pred,labels=[0,1,2], average='weighted')\n",
    "print(\"F1 score: \", f1)\n",
    "f1_label = f1_score(y_true=y_val, y_pred=val_pred,labels=[0,1,2], average=None)\n",
    "print(\"F1 for each label: \", f1_label)\n"
   ]
  },
  {
   "cell_type": "code",
   "execution_count": 19,
   "metadata": {},
   "outputs": [],
   "source": [
    "y_test_pred_df = pd.DataFrame(y_pred)\n",
    "y_test_pred_df.rename(columns = {0:'Label'}, inplace= True)\n",
    "\n",
    "output = pd.concat([y_test_pred_df, y_test], axis=1)\n",
    "pred_RandomForest = output.to_csv('pred_RandomForest.csv', index = False)"
   ]
  },
  {
   "cell_type": "markdown",
   "metadata": {},
   "source": [
    "##### GridSearch & Random Forest"
   ]
  },
  {
   "cell_type": "code",
   "execution_count": 20,
   "metadata": {},
   "outputs": [],
   "source": [
    "from sklearn.model_selection import GridSearchCV\n",
    "\n",
    "depth_range = list(range(17, 19))\n",
    "#depth_range = list(range(15, 25))\n",
    "#tree_param = dict(max_depth=depth_range, n_estimators=[800, 900, 1000], criterion=[\"entropy\"])\n",
    "tree_param = dict(max_depth=depth_range, n_estimators=[1000], criterion=[\"entropy\"])\n",
    "\n",
    "grid_rfc = GridSearchCV(RandomForestClassifier(random_state=42), tree_param, cv=10)\n",
    "#grid_dtc = GridSearchCV(RandomForestClassifier(random_state=0), tree_param)\n",
    "grid_rfc.fit(x, y)\n",
    "\n",
    "mean_test_scores_rfc = grid_rfc.cv_results_['mean_test_score']\n",
    "best_estimator_rfc = grid_rfc.best_estimator_\n",
    "accuracy_rfc = grid_rfc.best_score_ *100"
   ]
  },
  {
   "cell_type": "code",
   "execution_count": 21,
   "metadata": {},
   "outputs": [
    {
     "name": "stdout",
     "output_type": "stream",
     "text": [
      "Mean test scores:  [0.80421544 0.80373467 0.80324926 0.8066309  0.80663322 0.80760173\n",
      " 0.80759244 0.80614084 0.80614084 0.80711167 0.80710935 0.80903939\n",
      " 0.80614548 0.80662858 0.8085563  0.80615013 0.80807553 0.80711631\n",
      " 0.8066309  0.80614548 0.80662858 0.80663322 0.80663322 0.80662858\n",
      " 0.80518627 0.8066309  0.80614548 0.8047055  0.8066309  0.80566472]\n",
      "Best estimator:  RandomForestClassifier(criterion='entropy', max_depth=18, n_estimators=1000,\n",
      "                       random_state=42)\n",
      "Accuracy:  80.90393905611297\n"
     ]
    }
   ],
   "source": [
    "print(\"Mean test scores: \", mean_test_scores_rfc)\n",
    "print(\"Best estimator: \", grid_rfc.best_estimator_)\n",
    "print(\"Accuracy: \", accuracy_rfc)"
   ]
  },
  {
   "cell_type": "markdown",
   "metadata": {},
   "source": [
    "best so far max: 80.90393905611297\n",
    "\n",
    "RandomForestClassifier(criterion='entropy', max_depth=18, n_estimators=1000, random_state=42)"
   ]
  },
  {
   "cell_type": "code",
   "execution_count": 22,
   "metadata": {},
   "outputs": [],
   "source": [
    "from sklearn import metrics \n",
    "rfc = best_estimator_rfc\n",
    "predictions = rfc.predict(X_test)"
   ]
  },
  {
   "cell_type": "code",
   "execution_count": 23,
   "metadata": {},
   "outputs": [],
   "source": [
    "predictions_df = pd.DataFrame(predictions)\n",
    "predictions_df.rename(columns = {0:'Label'}, inplace= True)\n",
    "\n",
    "result = pd.concat([predictions_df, y_test], axis=1)\n",
    "pred_GSRandomForest = result.to_csv('pred_GSRandomForest.csv', index = False)"
   ]
  },
  {
   "cell_type": "markdown",
   "metadata": {},
   "source": [
    "#### CatBoost"
   ]
  },
  {
   "cell_type": "code",
   "execution_count": 24,
   "metadata": {},
   "outputs": [
    {
     "name": "stdout",
     "output_type": "stream",
     "text": [
      "0:\tlearn: 1.0508793\ttotal: 92.3ms\tremaining: 4.52s\n",
      "1:\tlearn: 1.0096832\ttotal: 104ms\tremaining: 2.5s\n",
      "2:\tlearn: 0.9751216\ttotal: 120ms\tremaining: 1.88s\n",
      "3:\tlearn: 0.9434463\ttotal: 133ms\tremaining: 1.53s\n",
      "4:\tlearn: 0.9168675\ttotal: 146ms\tremaining: 1.31s\n",
      "5:\tlearn: 0.8920098\ttotal: 156ms\tremaining: 1.14s\n",
      "6:\tlearn: 0.8702112\ttotal: 175ms\tremaining: 1.08s\n",
      "7:\tlearn: 0.8512157\ttotal: 186ms\tremaining: 975ms\n",
      "8:\tlearn: 0.8334094\ttotal: 200ms\tremaining: 909ms\n",
      "9:\tlearn: 0.8157952\ttotal: 218ms\tremaining: 873ms\n",
      "10:\tlearn: 0.8021812\ttotal: 237ms\tremaining: 839ms\n",
      "11:\tlearn: 0.7870681\ttotal: 262ms\tremaining: 831ms\n",
      "12:\tlearn: 0.7757612\ttotal: 277ms\tremaining: 789ms\n",
      "13:\tlearn: 0.7654357\ttotal: 286ms\tremaining: 736ms\n",
      "14:\tlearn: 0.7544893\ttotal: 301ms\tremaining: 703ms\n",
      "15:\tlearn: 0.7448085\ttotal: 341ms\tremaining: 726ms\n",
      "16:\tlearn: 0.7350152\ttotal: 352ms\tremaining: 684ms\n",
      "17:\tlearn: 0.7270566\ttotal: 368ms\tremaining: 655ms\n",
      "18:\tlearn: 0.7176274\ttotal: 380ms\tremaining: 621ms\n",
      "19:\tlearn: 0.7097911\ttotal: 393ms\tremaining: 589ms\n",
      "20:\tlearn: 0.7003330\ttotal: 406ms\tremaining: 561ms\n",
      "21:\tlearn: 0.6942508\ttotal: 422ms\tremaining: 538ms\n",
      "22:\tlearn: 0.6885919\ttotal: 431ms\tremaining: 506ms\n",
      "23:\tlearn: 0.6828725\ttotal: 444ms\tremaining: 481ms\n",
      "24:\tlearn: 0.6777266\ttotal: 465ms\tremaining: 465ms\n",
      "25:\tlearn: 0.6719189\ttotal: 478ms\tremaining: 441ms\n",
      "26:\tlearn: 0.6671216\ttotal: 489ms\tremaining: 416ms\n",
      "27:\tlearn: 0.6620479\ttotal: 498ms\tremaining: 391ms\n",
      "28:\tlearn: 0.6576928\ttotal: 518ms\tremaining: 375ms\n",
      "29:\tlearn: 0.6534527\ttotal: 555ms\tremaining: 370ms\n",
      "30:\tlearn: 0.6497627\ttotal: 571ms\tremaining: 350ms\n",
      "31:\tlearn: 0.6449138\ttotal: 581ms\tremaining: 327ms\n",
      "32:\tlearn: 0.6411750\ttotal: 593ms\tremaining: 305ms\n",
      "33:\tlearn: 0.6356864\ttotal: 612ms\tremaining: 288ms\n",
      "34:\tlearn: 0.6313941\ttotal: 625ms\tremaining: 268ms\n",
      "35:\tlearn: 0.6299079\ttotal: 636ms\tremaining: 247ms\n",
      "36:\tlearn: 0.6255779\ttotal: 650ms\tremaining: 228ms\n",
      "37:\tlearn: 0.6222876\ttotal: 667ms\tremaining: 211ms\n",
      "38:\tlearn: 0.6187343\ttotal: 675ms\tremaining: 190ms\n",
      "39:\tlearn: 0.6138710\ttotal: 687ms\tremaining: 172ms\n",
      "40:\tlearn: 0.6095538\ttotal: 706ms\tremaining: 155ms\n",
      "41:\tlearn: 0.6059908\ttotal: 730ms\tremaining: 139ms\n",
      "42:\tlearn: 0.6040089\ttotal: 751ms\tremaining: 122ms\n",
      "43:\tlearn: 0.5994405\ttotal: 764ms\tremaining: 104ms\n",
      "44:\tlearn: 0.5953172\ttotal: 776ms\tremaining: 86.2ms\n",
      "45:\tlearn: 0.5921374\ttotal: 787ms\tremaining: 68.4ms\n",
      "46:\tlearn: 0.5894388\ttotal: 805ms\tremaining: 51.4ms\n",
      "47:\tlearn: 0.5867495\ttotal: 815ms\tremaining: 33.9ms\n",
      "48:\tlearn: 0.5842354\ttotal: 826ms\tremaining: 16.9ms\n",
      "49:\tlearn: 0.5810839\ttotal: 840ms\tremaining: 0us\n",
      "Accuracy of the model:  0.7036144578313253\n",
      "F1 score:  0.7001723707031065\n",
      "F1 for each label:  [0.66666667 0.74698795 0.64220183]\n"
     ]
    }
   ],
   "source": [
    "from catboost import CatBoostClassifier\n",
    "\n",
    "X_train, X_val, y_train, y_val = train_test_split(x, y, test_size = 0.20)\n",
    "\n",
    "model = CatBoostClassifier(iterations=50,random_seed=42,learning_rate=0.1)\n",
    "model.fit(X_train, y_train)\n",
    "preds = model.predict(X_val)\n",
    "\n",
    "# using metrics module for accuracy calculation\n",
    "print(\"Accuracy of the model: \", metrics.accuracy_score(y_val, preds))\n",
    "\n",
    "# F1 score\n",
    "f1 = f1_score(y_true=y_val, y_pred=preds,labels=[0,1,2], average='weighted')\n",
    "print(\"F1 score: \", f1)\n",
    "f1_label = f1_score(y_true=y_val, y_pred=preds,labels=[0,1,2], average=None)\n",
    "print(\"F1 for each label: \", f1_label)"
   ]
  },
  {
   "cell_type": "code",
   "execution_count": 25,
   "metadata": {},
   "outputs": [],
   "source": [
    "preds_df = pd.DataFrame(preds)\n",
    "preds_df.rename(columns = {0:'Label'}, inplace= True)\n",
    "\n",
    "result = pd.concat([preds_df, y_test], axis=1)\n",
    "pred_CatBoost = result.to_csv('pred_CatBoost.csv', index = False)"
   ]
  },
  {
   "cell_type": "code",
   "execution_count": 26,
   "metadata": {},
   "outputs": [
    {
     "data": {
      "text/plain": [
       "'\\ndepth_range = list(range(2, 9))\\n#tree_param = dict(max_depth=depth_range, n_estimators=[100, 800, 1000], criterion=[\"gini\", \"entropy\"])\\ncat_param = dict(max_depth=depth_range, n_estimators=[10, 100, 1000], learning_rate=[0.01, 0.1, 1])\\n#only one of the parameters iterations, n_estimators, num_boost_round, num_trees should be initialized.\\n\\n\\ngrid_cbc = GridSearchCV(CatBoostClassifier(random_seed=42), cat_param, cv=5)\\n#grid_dtc = GridSearchCV(RandomForestClassifier(random_state=0), tree_param)\\ngrid_cbc.fit(X_new, y)\\n\\nmean_test_scores_cbc = grid_cbc.cv_results_[\\'mean_test_score\\']\\nbest_estimator_cbc = grid_cbc.best_estimator_\\naccuracy_cbc = grid_cbc.best_score_ *100\\n'"
      ]
     },
     "execution_count": 26,
     "metadata": {},
     "output_type": "execute_result"
    }
   ],
   "source": [
    "\"\"\"\n",
    "depth_range = list(range(2, 9))\n",
    "#tree_param = dict(max_depth=depth_range, n_estimators=[100, 800, 1000], criterion=[\"gini\", \"entropy\"])\n",
    "cat_param = dict(max_depth=depth_range, n_estimators=[10, 100, 1000], learning_rate=[0.01, 0.1, 1])\n",
    "#only one of the parameters iterations, n_estimators, num_boost_round, num_trees should be initialized.\n",
    "\n",
    "\n",
    "grid_cbc = GridSearchCV(CatBoostClassifier(random_seed=42), cat_param, cv=5)\n",
    "#grid_dtc = GridSearchCV(RandomForestClassifier(random_state=0), tree_param)\n",
    "grid_cbc.fit(X_new, y)\n",
    "\n",
    "mean_test_scores_cbc = grid_cbc.cv_results_['mean_test_score']\n",
    "best_estimator_cbc = grid_cbc.best_estimator_\n",
    "accuracy_cbc = grid_cbc.best_score_ *100\n",
    "\"\"\""
   ]
  },
  {
   "cell_type": "code",
   "execution_count": 27,
   "metadata": {},
   "outputs": [
    {
     "data": {
      "text/plain": [
       "'\\n# using metrics module for accuracy calculation\\nprint(\"ACCURACY OF THE MODEL: \", metrics.accuracy_score(y_val, y_pred))\\n\\n# F1 score\\nf1 = f1_score(y_true=y_val, y_pred=y_pred,labels=[0,1,2], average=\\'weighted\\')\\nprint(\"F1 score: \", f1)\\nf1_label = f1_score(y_true=y_val, y_pred=y_pred,labels=[0,1,2], average=None)\\nprint(\"F1 for each label: \", f1_label)\\n'"
      ]
     },
     "execution_count": 27,
     "metadata": {},
     "output_type": "execute_result"
    }
   ],
   "source": [
    "\"\"\"\n",
    "# using metrics module for accuracy calculation\n",
    "print(\"ACCURACY OF THE MODEL: \", metrics.accuracy_score(y_val, y_pred))\n",
    "\n",
    "# F1 score\n",
    "f1 = f1_score(y_true=y_val, y_pred=y_pred,labels=[0,1,2], average='weighted')\n",
    "print(\"F1 score: \", f1)\n",
    "f1_label = f1_score(y_true=y_val, y_pred=y_pred,labels=[0,1,2], average=None)\n",
    "print(\"F1 for each label: \", f1_label)\n",
    "\"\"\""
   ]
  },
  {
   "cell_type": "code",
   "execution_count": null,
   "metadata": {},
   "outputs": [],
   "source": []
  },
  {
   "cell_type": "code",
   "execution_count": null,
   "metadata": {},
   "outputs": [],
   "source": []
  },
  {
   "cell_type": "markdown",
   "metadata": {},
   "source": [
    "#"
   ]
  },
  {
   "cell_type": "markdown",
   "metadata": {},
   "source": [
    "### 5. Validation\n",
    "(20 points)\n",
    "- Did you compare your model to a simpler baseline model?\n",
    "- Did you perform an extensive evaluation of your model? (e.g. k-fold cross-validation) \n",
    "- Does the accuracy of your model drop when it is evaluated on the test data?"
   ]
  },
  {
   "cell_type": "markdown",
   "metadata": {},
   "source": [
    "### 6. Limitations\n",
    "(5 points)\n",
    "- What are the limitations of your approach?\n",
    "- Give some examples of possible extensions or ways to address these limitations."
   ]
  },
  {
   "cell_type": "markdown",
   "metadata": {},
   "source": []
  },
  {
   "cell_type": "markdown",
   "metadata": {},
   "source": [
    "### 7. Conclusions\n",
    "(5 points)\n",
    "- State the results achieved in relation to the problem described in the introduction. \n",
    "- Include the main takeaways from your analysis."
   ]
  },
  {
   "cell_type": "markdown",
   "metadata": {},
   "source": []
  }
 ],
 "metadata": {
  "kernelspec": {
   "display_name": "mlenv",
   "language": "python",
   "name": "mlenv"
  },
  "language_info": {
   "codemirror_mode": {
    "name": "ipython",
    "version": 3
   },
   "file_extension": ".py",
   "mimetype": "text/x-python",
   "name": "python",
   "nbconvert_exporter": "python",
   "pygments_lexer": "ipython3",
   "version": "3.9.10"
  },
  "orig_nbformat": 4
 },
 "nbformat": 4,
 "nbformat_minor": 2
}
